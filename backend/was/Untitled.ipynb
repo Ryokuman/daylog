{
 "cells": [
  {
   "cell_type": "code",
   "execution_count": 2,
   "id": "23bc5a8a",
   "metadata": {
    "pycharm": {
     "name": "#%%\n"
    }
   },
   "outputs": [],
   "source": [
    "def hello(a,b,c,d):\n",
    "    return {\"a\":a,\"b\":b,\"c\":c,\"d\":d}"
   ]
  },
  {
   "cell_type": "code",
   "execution_count": 10,
   "id": "7cd55893",
   "metadata": {
    "pycharm": {
     "name": "#%%\n"
    }
   },
   "outputs": [
    {
     "name": "stdout",
     "output_type": "stream",
     "text": [
      "{'a': \"it's a\", 'b': \"it's b\", 'c': \"it's c\", 'd': 'hello'}\n"
     ]
    }
   ],
   "source": [
    "test = {\"a\":\"it's a\",\"b\":\"it's b\",\"c\":\"it's c\"}\n",
    "print(hello(**test , d=\"hello\"))"
   ]
  },
  {
   "cell_type": "code",
   "execution_count": 7,
   "id": "9b740f05",
   "metadata": {
    "pycharm": {
     "name": "#%%\n"
    }
   },
   "outputs": [
    {
     "name": "stdout",
     "output_type": "stream",
     "text": [
      "hello\n"
     ]
    }
   ],
   "source": [
    "print(not False and \"hello\")"
   ]
  },
  {
   "cell_type": "code",
   "execution_count": null,
   "id": "e64b6d94",
   "metadata": {
    "pycharm": {
     "name": "#%%\n"
    }
   },
   "outputs": [],
   "source": []
  }
 ],
 "metadata": {
  "kernelspec": {
   "display_name": "Python 3 (ipykernel)",
   "language": "python",
   "name": "python3"
  },
  "language_info": {
   "codemirror_mode": {
    "name": "ipython",
    "version": 3
   },
   "file_extension": ".py",
   "mimetype": "text/x-python",
   "name": "python",
   "nbconvert_exporter": "python",
   "pygments_lexer": "ipython3",
   "version": "3.10.2"
  }
 },
 "nbformat": 4,
 "nbformat_minor": 5
}